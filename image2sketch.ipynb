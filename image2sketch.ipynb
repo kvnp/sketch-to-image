{
 "cells": [
  {
   "cell_type": "code",
   "execution_count": 4,
   "metadata": {},
   "outputs": [],
   "source": [
    "from multiprocessing import Pool, cpu_count\n",
    "import matplotlib.pyplot as plt\n",
    "from tqdm import tqdm\n",
    "import numpy as np\n",
    "import cv2\n",
    "import sys\n",
    "import os"
   ]
  },
  {
   "cell_type": "code",
   "execution_count": 5,
   "metadata": {},
   "outputs": [],
   "source": [
    "import multiprocessing\n",
    "\n",
    "\n",
    "image_path = './dataset/original/'\n",
    "sketch_path = './dataset/sketch/'\n",
    "\n",
    "cores = cpu_count()\n",
    "img_names = os.listdir(image_path)\n",
    "img_names_split = np.array_split(img_names, cores)"
   ]
  },
  {
   "cell_type": "code",
   "execution_count": 6,
   "metadata": {},
   "outputs": [],
   "source": [
    "def burnV2(image, mask):\n",
    "    return 255 - cv2.divide(255-image, 255-mask, scale=256)\n",
    "\n",
    "def dodgeV2(image, mask):\n",
    "    return cv2.divide(image, 255-mask, scale=256)\n",
    "\n",
    "def img_to_sketch(img_names):\n",
    "    for img in tqdm(img_names):\n",
    "        img_rgb = cv2.imread(image_path+'/'+img)\n",
    "        img_gray = cv2.cvtColor(img_rgb, cv2.COLOR_BGR2GRAY)\n",
    "        img_gray_inv = np.subtract(255, img_gray)\n",
    "        img_blur = cv2.GaussianBlur(\n",
    "            img_gray_inv,\n",
    "            ksize=(21, 21),\n",
    "            sigmaX=0,\n",
    "            sigmaY=0\n",
    "        )\n",
    "        \n",
    "        img_blend = dodgeV2(img_gray, img_blur)\n",
    "        plt.imsave(sketch_path+'/'+img, img_blend, cmap='gray')\n",
    "        #plt.imshow( img_blend,cmap='gray')\n",
    "        #plt.show()"
   ]
  },
  {
   "cell_type": "code",
   "execution_count": 7,
   "metadata": {},
   "outputs": [
    {
     "name": "stdout",
     "output_type": "stream",
     "text": [
      "[INFO] launching pool using 8 processes...\n"
     ]
    },
    {
     "name": "stderr",
     "output_type": "stream",
     "text": [
      " 88%|████████▊ | 28/32 [00:00<00:00, 48.10it/s]\n",
      "100%|██████████| 32/32 [00:00<00:00, 49.08it/s]\n",
      "100%|██████████| 32/32 [00:00<00:00, 46.80it/s]\n",
      "100%|██████████| 32/32 [00:00<00:00, 46.48it/s]\n",
      "\n",
      "\n",
      "100%|██████████| 32/32 [00:00<00:00, 44.86it/s]\n",
      "100%|██████████| 32/32 [00:00<00:00, 43.59it/s]\n",
      "100%|██████████| 32/32 [00:00<00:00, 44.08it/s]\n",
      "\n",
      "100%|██████████| 32/32 [00:00<00:00, 45.84it/s]\n",
      "100%|██████████| 32/32 [00:00<00:00, 43.18it/s]\n",
      "100%|██████████| 32/32 [00:00<00:00, 42.88it/s]\n",
      "100%|██████████| 32/32 [00:00<00:00, 42.56it/s]\n",
      "100%|██████████| 32/32 [00:00<00:00, 42.22it/s]\n",
      "100%|██████████| 32/32 [00:00<00:00, 42.30it/s]\n"
     ]
    },
    {
     "name": "stdout",
     "output_type": "stream",
     "text": [
      "[INFO] waiting for processes to finish...\n",
      "[INFO] multiprocessing complete\n"
     ]
    }
   ],
   "source": [
    "print(\"[INFO] launching pool using {} processes...\".format(8))\n",
    "pool = Pool(processes=os.cpu_count())\n",
    "pool.map(img_to_sketch, img_names_split)\n",
    "print(\"[INFO] waiting for processes to finish...\")\n",
    "pool.close()\n",
    "pool.join()\n",
    "print(\"[INFO] multiprocessing complete\")"
   ]
  }
 ],
 "metadata": {
  "kernelspec": {
   "display_name": "Python 3",
   "language": "python",
   "name": "python3"
  },
  "language_info": {
   "codemirror_mode": {
    "name": "ipython",
    "version": 3
   },
   "file_extension": ".py",
   "mimetype": "text/x-python",
   "name": "python",
   "nbconvert_exporter": "python",
   "pygments_lexer": "ipython3",
   "version": "3.11.7"
  }
 },
 "nbformat": 4,
 "nbformat_minor": 2
}
